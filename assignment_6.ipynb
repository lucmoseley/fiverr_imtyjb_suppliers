{
 "cells": [
  {
   "cell_type": "code",
   "execution_count": 1,
   "id": "ebe971e0-61d5-4881-b09f-917889975cda",
   "metadata": {},
   "outputs": [],
   "source": [
    "# Here I create a sample data set\n",
    "\n",
    "# Define some suppliers as dictionaries\n",
    "first_supplier = {'city': 'Sydney',\n",
    "    'contact_firstname': 'Robert',\n",
    "    'contact_lastname': 'Mogabe',\n",
    "    'contact_title': 'Mr',\n",
    "    'country': 'Australia',\n",
    "    'email': 'rob.mob@gmail.com',\n",
    "    'notes': \"dictator\",\n",
    "    'phone': '(03) 9323 7763',\n",
    "    'postcode': 3000,\n",
    "    'state': 'QLD',\n",
    "    'street_address': 'Somewhere in Africa',\n",
    "    'supplier_id': 53,\n",
    "    'supplier_name': 'RobMog Ltd'}\n",
    "second_supplier = {'city': 'Woking',\n",
    "    'contact_firstname': 'Kenneth',\n",
    "    'contact_lastname': 'Moresby',\n",
    "    'contact_title': 'Mr',\n",
    "    'country': 'Australia',\n",
    "    'email': 'k.moresby@gmail.com',\n",
    "    'notes': \"\",\n",
    "    'phone': '(03) 9343 0665',\n",
    "    'postcode': 3671,\n",
    "    'state': 'QLD',\n",
    "    'street_address': '3 The Green Walk',\n",
    "    'supplier_id': 52,\n",
    "    'supplier_name': 'KM Ltd'}\n",
    "third_supplier = {'city': 'Sydney',\n",
    "    'contact_firstname': 'Josh',\n",
    "    'contact_lastname': 'Joshson',\n",
    "    'contact_title': 'Mr',\n",
    "    'country': 'Australia',\n",
    "    'email': 'jjjjj@gmail.com',\n",
    "    'notes': \"\",\n",
    "    'phone': '(04) 1234 0665',\n",
    "    'postcode': 2929,\n",
    "    'state': 'NSW',\n",
    "    'street_address': '4 Park Lane',\n",
    "    'supplier_id': 50,\n",
    "    'supplier_name': 'JJ&J Ltd'}\n",
    "\n",
    "# Collate the dictionaries into a list called \"suppliers\"\n",
    "suppliers = [first_supplier, second_supplier, third_supplier]"
   ]
  },
  {
   "cell_type": "markdown",
   "id": "9fb308af-7691-4577-be04-cb1ac228f5c1",
   "metadata": {},
   "source": [
    "# Coding Assignment 6\n",
    "\n",
    "Course code/name:  \n",
    "Student name:  \n",
    "Student number:  "
   ]
  },
  {
   "cell_type": "markdown",
   "id": "9208ee3d-7409-4db2-b885-c34b4797fbef",
   "metadata": {},
   "source": [
    "## A1"
   ]
  },
  {
   "cell_type": "code",
   "execution_count": 2,
   "id": "eb15aa26-ffac-41b3-9635-605162e3e2c1",
   "metadata": {},
   "outputs": [
    {
     "name": "stdout",
     "output_type": "stream",
     "text": [
      "The keys of the dictionary \"sup\" are: ['city', 'contact_firstname', 'contact_lastname', 'contact_title', 'country', 'email', 'notes', 'phone', 'postcode', 'state', 'street_address', 'supplier_id', 'supplier_name']\n",
      "The values of the dictionary \"sup\" are: ['Sydney', 'Robert', 'Mogabe', 'Mr', 'Australia', 'rob.mob@gmail.com', 'dictator', '(03) 9323 7763', 3000, 'QLD', 'Somewhere in Africa', 53, 'RobMog Ltd']\n",
      "The key \"mobile\" does not exist in sup :(\n",
      "\"sup\" now holds 0 items and is therefore empty\n"
     ]
    }
   ],
   "source": [
    "# Select an individual dictionary from suppliers & assign it as 'sup'\n",
    "sup = suppliers[0].copy()\n",
    "\n",
    "# Q1: Find keys of sup\n",
    "sup_keys = list(suppliers[0].keys())\n",
    "print('The keys of the dictionary \"sup\" are: {}'.format(sup_keys))\n",
    "\n",
    "# Q2: Find the values of sup\n",
    "sup_values = list(suppliers[0].values())\n",
    "print('The values of the dictionary \"sup\" are: {}'.format(sup_values))\n",
    "\n",
    "# Q3: Check for the key \"mobile\"\n",
    "if 'mobile' in sup_keys:\n",
    "    print('The key \"mobile\" exists in sup! :)')\n",
    "else:\n",
    "    print('The key \"mobile\" does not exist in sup :(')\n",
    "\n",
    "# Q4: Delete all items from the dictionary \"sup\"\n",
    "sup.clear()\n",
    "# check that items are actually gone\n",
    "num_items_in_sup = len(sup)\n",
    "if num_items_in_sup == 0:\n",
    "    print('\"sup\" now holds {} items and is therefore empty'.format(num_items_in_sup))\n",
    "else:\n",
    "    print('\"sup\" still holds {} items'.format(num_items_in_sup))"
   ]
  },
  {
   "cell_type": "markdown",
   "id": "15530997-ea8d-44f0-9568-bf1feca7e806",
   "metadata": {},
   "source": [
    "## A2"
   ]
  },
  {
   "cell_type": "code",
   "execution_count": 3,
   "id": "02d5ac94-258b-4a29-830f-42de6493b776",
   "metadata": {},
   "outputs": [
    {
     "name": "stdout",
     "output_type": "stream",
     "text": [
      "The list \"suppliers\" holds 3 dictionaries\n",
      "Supplier name changed from \"Kenneth\" to \"Ken\"\n",
      "Removed supplier with supplier_id=53\n"
     ]
    }
   ],
   "source": [
    "# Q1: Find the length of \"suppliers\"\n",
    "length_suppliers = len(suppliers)\n",
    "print('The list \"suppliers\" holds {} dictionaries'.format(length_suppliers))\n",
    "\n",
    "# Q2: Change contact_firstname of supplier with supplier_id=52 from Kenneth to Ken\n",
    "for supplier in suppliers:\n",
    "    if supplier['supplier_id'] == 52:\n",
    "        existing_name = supplier['contact_firstname']\n",
    "        supplier['contact_firstname'] = 'Ken'\n",
    "        print('Supplier name changed from \"{}\" to \"Ken\"'.format(existing_name))\n",
    "\n",
    "# Q3: Add a new supplier to the list of suppliers\n",
    "# define the new entry\n",
    "new_supplier = {'city': 'Lancaster',\n",
    "                'contact_firstname': 'Tracy',\n",
    "                'contact_lastname': 'Wilson',\n",
    "                'contact_title': 'Mrs',\n",
    "                'country': 'Australia',\n",
    "                'email': 'tracy4587.wilson@gmail.com',\n",
    "                'notes': \"\",\n",
    "                'phone': '(03) 9323 0663',\n",
    "                'postcode': 3620,\n",
    "                'state': 'VIC',\n",
    "                'street_address': 'Suite 141/8 Black Dale',\n",
    "                'supplier_id': 55,\n",
    "                'supplier_name': 'Scott Ltd'}\n",
    "# add the new entry to \"suppliers\"\n",
    "suppliers.append(new_supplier)\n",
    "\n",
    "# Q4: Remove supplier with supplier_id=53 from \"suppliers\"\n",
    "for supplier in suppliers:\n",
    "    if supplier['supplier_id'] == 53:\n",
    "        suppliers.remove(supplier)\n",
    "        print('Removed supplier with supplier_id=53')"
   ]
  },
  {
   "cell_type": "markdown",
   "id": "7cc65e7c-ade8-4f62-8c36-584326c2230b",
   "metadata": {},
   "source": [
    "## A3"
   ]
  },
  {
   "cell_type": "code",
   "execution_count": 4,
   "id": "015fb471-ff5b-426d-81bb-2bd09d1ce475",
   "metadata": {},
   "outputs": [
    {
     "name": "stdout",
     "output_type": "stream",
     "text": [
      "The list [1, 55, 10, 20, 30] has the following properties:\n",
      "Length: 5\n",
      "Sum: 116\n",
      "Average 23.2\n",
      "Minimum value: 1\n"
     ]
    }
   ],
   "source": [
    "# Define function that calculates requested properties of a list of numbers\n",
    "def list_properties(numerical_list):\n",
    "\n",
    "    print('The list {} has the following properties:'.format(numerical_list))\n",
    "\n",
    "    # find the length of the list\n",
    "    list_length = len(numerical_list)\n",
    "    print('Length: {}'.format(list_length))\n",
    "\n",
    "    # compute the sum of all items\n",
    "    list_sum = sum(numerical_list)\n",
    "    print('Sum: {}'.format(list_sum))\n",
    "\n",
    "    # compute list average\n",
    "    list_average = list_sum / list_length\n",
    "    print('Average {}'.format(list_average))\n",
    "\n",
    "    # find the minimum value of the list\n",
    "    list_min = min(numerical_list)\n",
    "    print('Minimum value: {}'.format(list_min))\n",
    "\n",
    "    return list_length, list_sum, list_average, list_min\n",
    "\n",
    "# Define the requested list\n",
    "sample_list = [1, 55, 10, 20, 30]\n",
    "\n",
    "# Save list properties for \"sample_list\"\n",
    "sample_length, sample_sum, sample_average, sample_min = list_properties(sample_list)"
   ]
  },
  {
   "cell_type": "markdown",
   "id": "a1dbded0-87bf-456d-876d-b3ab46dbedf2",
   "metadata": {},
   "source": [
    "## A4"
   ]
  },
  {
   "cell_type": "code",
   "execution_count": 5,
   "id": "12328d39-965e-496f-9b38-06e9a60b1062",
   "metadata": {},
   "outputs": [
    {
     "name": "stdout",
     "output_type": "stream",
     "text": [
      "Supplier names: ['KM Ltd', 'JJ&J Ltd', 'Scott Ltd']\n",
      "Supplier names as a string: KM Ltd; JJ&J Ltd; Scott Ltd\n"
     ]
    }
   ],
   "source": [
    "# Q1: Process the list of dictionaries to create a list of supplier names\n",
    "supplier_names = []\n",
    "for supplier in suppliers:\n",
    "    supplier_names.append(supplier['supplier_name'])\n",
    "print('Supplier names: {}'.format(supplier_names))\n",
    "\n",
    "# Q2: Join the supplier_name with a semi-colon followed by space to form a single string and print the string\n",
    "names_as_string = '; '.join(supplier_names)\n",
    "print('Supplier names as a string: {}'.format(names_as_string))"
   ]
  },
  {
   "cell_type": "markdown",
   "id": "91f5f815-467c-4122-a799-250529960618",
   "metadata": {},
   "source": [
    "## A5"
   ]
  },
  {
   "cell_type": "code",
   "execution_count": 6,
   "id": "0f68ecf9-2125-43fc-8321-0a7f6824b3a9",
   "metadata": {},
   "outputs": [
    {
     "name": "stdout",
     "output_type": "stream",
     "text": [
      "{'discontinued': 0, 'lead_time_days': 3, 'product_category': 'Wireless Phone', 'product_description': 'Display: 5.1-inches Camera: ...', 'product_id': 155, 'product_name': 'Samsung Galaxy S5, Black 16GB (Sprint)', 'reorder_level': 18, 'unit_price': 699.99}\n"
     ]
    }
   ],
   "source": [
    "# Q1: Create the dictionary prod_155\n",
    "prod_155 = {'discontinued': 0,\n",
    "            'lead_time_days': 3,\n",
    "            'product_category': 'Wireless Phone',\n",
    "            'product_description': 'Display: 5.1-inches Camera: ...',\n",
    "            'product_id': 155,\n",
    "            'product_name': 'Samsung Galaxy S5, Black 16GB (Sprint)',\n",
    "            'reorder_level': 18,\n",
    "            'unit_price': 699.99}\n",
    "\n",
    "# Q2: Print prod_155\n",
    "print(prod_155)"
   ]
  },
  {
   "cell_type": "markdown",
   "id": "5adb8f48-dc05-4636-9512-e048ecdf5022",
   "metadata": {},
   "source": [
    "## A6"
   ]
  },
  {
   "cell_type": "code",
   "execution_count": 7,
   "id": "4691e433-4d1a-4a80-849c-1eae989ebead",
   "metadata": {},
   "outputs": [
    {
     "name": "stdout",
     "output_type": "stream",
     "text": [
      "The new list has length 2\n",
      "The new suppliers list is:\n",
      "[{'city': 'Sydney', 'contact_firstname': 'Josh', 'contact_lastname': 'Joshson', 'contact_title': 'Mr', 'country': 'Australia', 'email': 'jjjjj@gmail.com', 'notes': '', 'phone': '(04) 1234 0665', 'postcode': 2929, 'state': 'NSW', 'street_address': '4 Park Lane', 'supplier_id': 50, 'supplier_name': 'JJ&J Ltd'}, {'city': 'Lancaster', 'contact_firstname': 'Tracy', 'contact_lastname': 'Wilson', 'contact_title': 'Mrs', 'country': 'Australia', 'email': 'tracy4587.wilson@gmail.com', 'notes': '', 'phone': '(03) 9323 0663', 'postcode': 3620, 'state': 'VIC', 'street_address': 'Suite 141/8 Black Dale', 'supplier_id': 55, 'supplier_name': 'Scott Ltd'}]\n"
     ]
    }
   ],
   "source": [
    "# Q1: Process the list of dictionaries to create a new list of dictionaries with only suppliers from \"VIC\" or \"NSW\"\n",
    "new_suppliers = list(filter(lambda d: d['state'] in ['VIC', 'NSW'], suppliers))\n",
    "\n",
    "# Q2: Print the length of the new list\n",
    "new_suppliers_length = len(new_suppliers)\n",
    "print('The new list has length {}'.format(new_suppliers_length))\n",
    "\n",
    "# Q3: Print the contents of the new list\n",
    "print('The new suppliers list is:')\n",
    "print(new_suppliers)"
   ]
  },
  {
   "cell_type": "markdown",
   "id": "a5933404-bb46-42d2-8912-e27ace35b264",
   "metadata": {},
   "source": [
    "## A7"
   ]
  },
  {
   "cell_type": "code",
   "execution_count": 8,
   "id": "c64cab12-ca23-4168-b54f-7cfa59849854",
   "metadata": {},
   "outputs": [
    {
     "name": "stdout",
     "output_type": "stream",
     "text": [
      "['Woking: 52, KM Ltd', 'Sydney: 50, JJ&J Ltd', 'Lancaster: 55, Scott Ltd']\n"
     ]
    }
   ],
   "source": [
    "# Q1: Process the list of dictionaries to create a list of supplier names formatted as city: supplier_id, supplier_name\n",
    "supplier_names_special_format = list(map(lambda x: '{}: {}, {}'.format(x['city'], x['supplier_id'], x['supplier_name']), suppliers))\n",
    "\n",
    "# Q2: Print the newly created list\n",
    "print(supplier_names_special_format)"
   ]
  },
  {
   "cell_type": "markdown",
   "id": "10ff74a0-1aff-43c9-81ad-74ff7fc7ddc6",
   "metadata": {},
   "source": [
    "## A8"
   ]
  },
  {
   "cell_type": "code",
   "execution_count": 9,
   "id": "25d99256-9f78-4f50-94bb-f634222aee5f",
   "metadata": {},
   "outputs": [
    {
     "name": "stdout",
     "output_type": "stream",
     "text": [
      "Printed date object for 02/03/2022:\n",
      "2022-03-02\n",
      "Printed date object for 28/02/2022 in Australian format:\n",
      "28/02/2022\n"
     ]
    }
   ],
   "source": [
    "# Q1: Convert the Australian date string 02/03/2022 to a python date object\n",
    "import datetime\n",
    "date_object = datetime.datetime.strptime('02/03/2022', \"%d/%m/%Y\").date()\n",
    "\n",
    "# Q2: Print the date object without any formatting\\\n",
    "print('Printed date object for 02/03/2022:')\n",
    "print(date_object)\n",
    "\n",
    "# Create a date object for the Australian date 28/02/2022 and print the date object in Australian format\n",
    "new_obj = datetime.datetime.strptime('28/02/2022', \"%d/%m/%Y\").date()\n",
    "print('Printed date object for 28/02/2022 in Australian format:')\n",
    "print(new_obj.strftime(\"%d/%m/%Y\"))"
   ]
  },
  {
   "cell_type": "markdown",
   "id": "7a30b65b-deac-4c61-954c-3a97873b9785",
   "metadata": {},
   "source": [
    "## A9"
   ]
  },
  {
   "cell_type": "code",
   "execution_count": 10,
   "id": "61053885-7722-448d-b668-b459a307d928",
   "metadata": {},
   "outputs": [],
   "source": [
    "# Write a program to print the area code of an Australian land line phone number (given as a string)\n",
    "import re\n",
    "\n",
    "def print_area_code(phone_number):\n",
    "\n",
    "    # find the area code\n",
    "    area_code = re.compile(\"\\((.*)\\)\").search(phone_number).group(1)\n",
    "\n",
    "    # print the area code\n",
    "    print('The area code for the number {} is: {}'.format(phone_number, area_code))"
   ]
  },
  {
   "cell_type": "markdown",
   "id": "3ae40767-a885-44d6-9345-603d7dd4756b",
   "metadata": {},
   "source": [
    "## A10"
   ]
  },
  {
   "cell_type": "code",
   "execution_count": 11,
   "id": "737af69f-91e3-406d-9128-bfd03fde4983",
   "metadata": {},
   "outputs": [
    {
     "name": "stdout",
     "output_type": "stream",
     "text": [
      "(03) 9961 5555\n"
     ]
    }
   ],
   "source": [
    "# Q1: Write Python code to implement a class to represent a Supplier as per the given specifications\n",
    "\n",
    "class Supplier:\n",
    "\n",
    "    # Initialize the class using a dict \n",
    "    def __init__(self, supplier):\n",
    "        \n",
    "        self.city = supplier['city']\n",
    "        self.contact_firstname = supplier['contact_firstname']\n",
    "        self.contact_lastname = supplier['contact_lastname']\n",
    "        self.contact_title = supplier['contact_title']\n",
    "        self.country = supplier['country']\n",
    "        self.email = supplier['email']\n",
    "        self.notes = supplier['notes']\n",
    "        self.phone = supplier['phone']\n",
    "        self.postcode = supplier['postcode']\n",
    "        self.state = supplier['state']\n",
    "        self.street_address = supplier['street_address']\n",
    "        self.supplier_id = supplier['supplier_id']\n",
    "        self.supplier_name = supplier['supplier_name']\n",
    "\n",
    "    # Define a function to set / re-set the instance attribute \"phone\"\n",
    "    def set_phone(self, phone_number):\n",
    "        self.phone = phone_number\n",
    "\n",
    "    # Define a function to retrieve the instance attribute \"phone\"\n",
    "    def get_phone(self):\n",
    "        print(self.phone)\n",
    "\n",
    "# Q2: Test the class and its methods to show that it works\n",
    "supp = Supplier(suppliers[2])\n",
    "supp.set_phone('(03) 9961 5555')\n",
    "supp.get_phone()"
   ]
  },
  {
   "cell_type": "code",
   "execution_count": null,
   "id": "1a1d7bb0-748d-44b9-81be-f63927b1c9f1",
   "metadata": {},
   "outputs": [],
   "source": []
  }
 ],
 "metadata": {
  "kernelspec": {
   "display_name": "Python 3 (ipykernel)",
   "language": "python",
   "name": "python3"
  },
  "language_info": {
   "codemirror_mode": {
    "name": "ipython",
    "version": 3
   },
   "file_extension": ".py",
   "mimetype": "text/x-python",
   "name": "python",
   "nbconvert_exporter": "python",
   "pygments_lexer": "ipython3",
   "version": "3.11.4"
  }
 },
 "nbformat": 4,
 "nbformat_minor": 5
}
